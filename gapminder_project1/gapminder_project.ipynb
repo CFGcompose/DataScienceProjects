{
 "cells": [
  {
   "cell_type": "markdown",
   "metadata": {},
   "source": [
    "#Gapminder Project"
   ]
  },
  {
   "cell_type": "code",
   "execution_count": 1,
   "metadata": {},
   "outputs": [],
   "source": [
    "import pandas as pd\n",
    "import numpy as np\n",
    "import matplotlib.pyplot as plt\n",
    "\n",
    "import seaborn as sns"
   ]
  },
  {
   "cell_type": "code",
   "execution_count": 9,
   "metadata": {},
   "outputs": [
    {
     "data": {
      "text/html": [
       "<div>\n",
       "<style scoped>\n",
       "    .dataframe tbody tr th:only-of-type {\n",
       "        vertical-align: middle;\n",
       "    }\n",
       "\n",
       "    .dataframe tbody tr th {\n",
       "        vertical-align: top;\n",
       "    }\n",
       "\n",
       "    .dataframe thead th {\n",
       "        text-align: right;\n",
       "    }\n",
       "</style>\n",
       "<table border=\"1\" class=\"dataframe\">\n",
       "  <thead>\n",
       "    <tr style=\"text-align: right;\">\n",
       "      <th></th>\n",
       "      <th>1800.0</th>\n",
       "      <th>1801.0</th>\n",
       "      <th>1802.0</th>\n",
       "      <th>1803.0</th>\n",
       "      <th>1804.0</th>\n",
       "      <th>1805.0</th>\n",
       "      <th>1806.0</th>\n",
       "      <th>1807.0</th>\n",
       "      <th>1808.0</th>\n",
       "      <th>1809.0</th>\n",
       "      <th>...</th>\n",
       "      <th>2007.0</th>\n",
       "      <th>2008.0</th>\n",
       "      <th>2009.0</th>\n",
       "      <th>2010.0</th>\n",
       "      <th>2011.0</th>\n",
       "      <th>2012.0</th>\n",
       "      <th>2013.0</th>\n",
       "      <th>2014.0</th>\n",
       "      <th>2015.0</th>\n",
       "      <th>2016.0</th>\n",
       "    </tr>\n",
       "    <tr>\n",
       "      <th>Life expectancy</th>\n",
       "      <th></th>\n",
       "      <th></th>\n",
       "      <th></th>\n",
       "      <th></th>\n",
       "      <th></th>\n",
       "      <th></th>\n",
       "      <th></th>\n",
       "      <th></th>\n",
       "      <th></th>\n",
       "      <th></th>\n",
       "      <th></th>\n",
       "      <th></th>\n",
       "      <th></th>\n",
       "      <th></th>\n",
       "      <th></th>\n",
       "      <th></th>\n",
       "      <th></th>\n",
       "      <th></th>\n",
       "      <th></th>\n",
       "      <th></th>\n",
       "      <th></th>\n",
       "    </tr>\n",
       "  </thead>\n",
       "  <tbody>\n",
       "    <tr>\n",
       "      <th>Abkhazia</th>\n",
       "      <td>NaN</td>\n",
       "      <td>NaN</td>\n",
       "      <td>NaN</td>\n",
       "      <td>NaN</td>\n",
       "      <td>NaN</td>\n",
       "      <td>NaN</td>\n",
       "      <td>NaN</td>\n",
       "      <td>NaN</td>\n",
       "      <td>NaN</td>\n",
       "      <td>NaN</td>\n",
       "      <td>...</td>\n",
       "      <td>NaN</td>\n",
       "      <td>NaN</td>\n",
       "      <td>NaN</td>\n",
       "      <td>NaN</td>\n",
       "      <td>NaN</td>\n",
       "      <td>NaN</td>\n",
       "      <td>NaN</td>\n",
       "      <td>NaN</td>\n",
       "      <td>NaN</td>\n",
       "      <td>NaN</td>\n",
       "    </tr>\n",
       "    <tr>\n",
       "      <th>Afghanistan</th>\n",
       "      <td>28.21</td>\n",
       "      <td>28.20</td>\n",
       "      <td>28.19</td>\n",
       "      <td>28.18</td>\n",
       "      <td>28.17</td>\n",
       "      <td>28.16</td>\n",
       "      <td>28.15</td>\n",
       "      <td>28.14</td>\n",
       "      <td>28.13</td>\n",
       "      <td>28.12</td>\n",
       "      <td>...</td>\n",
       "      <td>52.4</td>\n",
       "      <td>52.8</td>\n",
       "      <td>53.3</td>\n",
       "      <td>53.6</td>\n",
       "      <td>54.0</td>\n",
       "      <td>54.4</td>\n",
       "      <td>54.8</td>\n",
       "      <td>54.9</td>\n",
       "      <td>53.8</td>\n",
       "      <td>52.72</td>\n",
       "    </tr>\n",
       "    <tr>\n",
       "      <th>Akrotiri and Dhekelia</th>\n",
       "      <td>NaN</td>\n",
       "      <td>NaN</td>\n",
       "      <td>NaN</td>\n",
       "      <td>NaN</td>\n",
       "      <td>NaN</td>\n",
       "      <td>NaN</td>\n",
       "      <td>NaN</td>\n",
       "      <td>NaN</td>\n",
       "      <td>NaN</td>\n",
       "      <td>NaN</td>\n",
       "      <td>...</td>\n",
       "      <td>NaN</td>\n",
       "      <td>NaN</td>\n",
       "      <td>NaN</td>\n",
       "      <td>NaN</td>\n",
       "      <td>NaN</td>\n",
       "      <td>NaN</td>\n",
       "      <td>NaN</td>\n",
       "      <td>NaN</td>\n",
       "      <td>NaN</td>\n",
       "      <td>NaN</td>\n",
       "    </tr>\n",
       "    <tr>\n",
       "      <th>Albania</th>\n",
       "      <td>35.40</td>\n",
       "      <td>35.40</td>\n",
       "      <td>35.40</td>\n",
       "      <td>35.40</td>\n",
       "      <td>35.40</td>\n",
       "      <td>35.40</td>\n",
       "      <td>35.40</td>\n",
       "      <td>35.40</td>\n",
       "      <td>35.40</td>\n",
       "      <td>35.40</td>\n",
       "      <td>...</td>\n",
       "      <td>76.6</td>\n",
       "      <td>76.8</td>\n",
       "      <td>77.0</td>\n",
       "      <td>77.2</td>\n",
       "      <td>77.4</td>\n",
       "      <td>77.5</td>\n",
       "      <td>77.7</td>\n",
       "      <td>77.9</td>\n",
       "      <td>78.0</td>\n",
       "      <td>78.10</td>\n",
       "    </tr>\n",
       "    <tr>\n",
       "      <th>Algeria</th>\n",
       "      <td>28.82</td>\n",
       "      <td>28.82</td>\n",
       "      <td>28.82</td>\n",
       "      <td>28.82</td>\n",
       "      <td>28.82</td>\n",
       "      <td>28.82</td>\n",
       "      <td>28.82</td>\n",
       "      <td>28.82</td>\n",
       "      <td>28.82</td>\n",
       "      <td>28.82</td>\n",
       "      <td>...</td>\n",
       "      <td>75.3</td>\n",
       "      <td>75.5</td>\n",
       "      <td>75.7</td>\n",
       "      <td>76.0</td>\n",
       "      <td>76.1</td>\n",
       "      <td>76.2</td>\n",
       "      <td>76.3</td>\n",
       "      <td>76.3</td>\n",
       "      <td>76.4</td>\n",
       "      <td>76.50</td>\n",
       "    </tr>\n",
       "  </tbody>\n",
       "</table>\n",
       "<p>5 rows × 217 columns</p>\n",
       "</div>"
      ],
      "text/plain": [
       "                       1800.0  1801.0  1802.0  1803.0  1804.0  1805.0  1806.0  \\\n",
       "Life expectancy                                                                 \n",
       "Abkhazia                  NaN     NaN     NaN     NaN     NaN     NaN     NaN   \n",
       "Afghanistan             28.21   28.20   28.19   28.18   28.17   28.16   28.15   \n",
       "Akrotiri and Dhekelia     NaN     NaN     NaN     NaN     NaN     NaN     NaN   \n",
       "Albania                 35.40   35.40   35.40   35.40   35.40   35.40   35.40   \n",
       "Algeria                 28.82   28.82   28.82   28.82   28.82   28.82   28.82   \n",
       "\n",
       "                       1807.0  1808.0  1809.0  ...  2007.0  2008.0  2009.0  \\\n",
       "Life expectancy                                ...                           \n",
       "Abkhazia                  NaN     NaN     NaN  ...     NaN     NaN     NaN   \n",
       "Afghanistan             28.14   28.13   28.12  ...    52.4    52.8    53.3   \n",
       "Akrotiri and Dhekelia     NaN     NaN     NaN  ...     NaN     NaN     NaN   \n",
       "Albania                 35.40   35.40   35.40  ...    76.6    76.8    77.0   \n",
       "Algeria                 28.82   28.82   28.82  ...    75.3    75.5    75.7   \n",
       "\n",
       "                       2010.0  2011.0  2012.0  2013.0  2014.0  2015.0  2016.0  \n",
       "Life expectancy                                                                \n",
       "Abkhazia                  NaN     NaN     NaN     NaN     NaN     NaN     NaN  \n",
       "Afghanistan              53.6    54.0    54.4    54.8    54.9    53.8   52.72  \n",
       "Akrotiri and Dhekelia     NaN     NaN     NaN     NaN     NaN     NaN     NaN  \n",
       "Albania                  77.2    77.4    77.5    77.7    77.9    78.0   78.10  \n",
       "Algeria                  76.0    76.1    76.2    76.3    76.3    76.4   76.50  \n",
       "\n",
       "[5 rows x 217 columns]"
      ]
     },
     "execution_count": 9,
     "metadata": {},
     "output_type": "execute_result"
    }
   ],
   "source": [
    "df = pd.read_excel(\".\\Data\\gapminder_lifeexpectancy.xlsx\", index_col=0)\n",
    "df.head()"
   ]
  },
  {
   "cell_type": "code",
   "execution_count": 10,
   "metadata": {},
   "outputs": [
    {
     "data": {
      "text/plain": [
       "1800.0    59\n",
       "1801.0    59\n",
       "1802.0    59\n",
       "1803.0    59\n",
       "1804.0    59\n",
       "          ..\n",
       "2012.0    52\n",
       "2013.0    52\n",
       "2014.0    52\n",
       "2015.0    52\n",
       "2016.0    52\n",
       "Length: 217, dtype: int64"
      ]
     },
     "execution_count": 10,
     "metadata": {},
     "output_type": "execute_result"
    }
   ],
   "source": [
    "df.isna().sum()"
   ]
  },
  {
   "cell_type": "code",
   "execution_count": 11,
   "metadata": {},
   "outputs": [],
   "source": [
    "df.dropna(inplace=True)"
   ]
  },
  {
   "cell_type": "code",
   "execution_count": 25,
   "metadata": {},
   "outputs": [
    {
     "data": {
      "text/plain": [
       "1800.0    0\n",
       "1801.0    0\n",
       "1802.0    0\n",
       "1803.0    0\n",
       "1804.0    0\n",
       "         ..\n",
       "2012.0    0\n",
       "2013.0    0\n",
       "2014.0    0\n",
       "2015.0    0\n",
       "2016.0    0\n",
       "Length: 217, dtype: int64"
      ]
     },
     "execution_count": 25,
     "metadata": {},
     "output_type": "execute_result"
    }
   ],
   "source": [
    "df.isna().sum()"
   ]
  },
  {
   "cell_type": "code",
   "execution_count": 15,
   "metadata": {},
   "outputs": [],
   "source": [
    "df_T = df.describe().T"
   ]
  },
  {
   "cell_type": "code",
   "execution_count": 17,
   "metadata": {},
   "outputs": [
    {
     "data": {
      "text/plain": [
       "42.486805144782984"
      ]
     },
     "execution_count": 17,
     "metadata": {},
     "output_type": "execute_result"
    }
   ],
   "source": [
    "df_T['mean'].mean()"
   ]
  },
  {
   "cell_type": "code",
   "execution_count": 28,
   "metadata": {},
   "outputs": [],
   "source": [
    "df_1960 = df[1960]"
   ]
  },
  {
   "cell_type": "code",
   "execution_count": 29,
   "metadata": {},
   "outputs": [
    {
     "data": {
      "text/plain": [
       "54.653184079602006"
      ]
     },
     "execution_count": 29,
     "metadata": {},
     "output_type": "execute_result"
    }
   ],
   "source": [
    "df_1960.mean()"
   ]
  },
  {
   "cell_type": "code",
   "execution_count": 30,
   "metadata": {},
   "outputs": [
    {
     "data": {
      "text/plain": [
       "56.09"
      ]
     },
     "execution_count": 30,
     "metadata": {},
     "output_type": "execute_result"
    }
   ],
   "source": [
    "df_1960.median()"
   ]
  },
  {
   "cell_type": "code",
   "execution_count": 32,
   "metadata": {},
   "outputs": [
    {
     "data": {
      "text/plain": [
       "11.66376152066499"
      ]
     },
     "execution_count": 32,
     "metadata": {},
     "output_type": "execute_result"
    }
   ],
   "source": [
    "df_1960.std()"
   ]
  },
  {
   "cell_type": "code",
   "execution_count": 49,
   "metadata": {},
   "outputs": [
    {
     "data": {
      "text/plain": [
       "0.9    69.59\n",
       "Name: 1960.0, dtype: float64"
      ]
     },
     "execution_count": 49,
     "metadata": {},
     "output_type": "execute_result"
    }
   ],
   "source": [
    "quanti_90 = df_1960.quantile([0.9])\n",
    "quanti_90"
   ]
  },
  {
   "cell_type": "code",
   "execution_count": 63,
   "metadata": {},
   "outputs": [
    {
     "data": {
      "text/plain": [
       "numpy.float64"
      ]
     },
     "execution_count": 63,
     "metadata": {},
     "output_type": "execute_result"
    }
   ],
   "source": [
    "type(quanti_90.values[0])"
   ]
  },
  {
   "cell_type": "code",
   "execution_count": 66,
   "metadata": {},
   "outputs": [
    {
     "data": {
      "text/plain": [
       "Life expectancy\n",
       "Australia          70.87\n",
       "Belarus            71.59\n",
       "Canada             71.00\n",
       "Cyprus             69.72\n",
       "Czech Republic     70.58\n",
       "Denmark            72.28\n",
       "France             70.49\n",
       "Iceland            74.22\n",
       "Ireland            70.76\n",
       "Latvia             70.37\n",
       "Lithuania          70.33\n",
       "Netherlands        73.35\n",
       "New Zealand        71.28\n",
       "Norway             73.66\n",
       "Slovak Republic    70.42\n",
       "Sweden             73.01\n",
       "Switzerland        71.46\n",
       "Ukraine            70.88\n",
       "United Kingdom     71.02\n",
       "United States      69.91\n",
       "Name: 1960.0, dtype: float64"
      ]
     },
     "execution_count": 66,
     "metadata": {},
     "output_type": "execute_result"
    }
   ],
   "source": [
    "outlier_max = df_1960.where(df_1960 > quanti_90.values[0]).dropna()\n",
    "outlier_max"
   ]
  },
  {
   "cell_type": "code",
   "execution_count": 44,
   "metadata": {},
   "outputs": [
    {
     "data": {
      "text/plain": [
       "74.22"
      ]
     },
     "execution_count": 44,
     "metadata": {},
     "output_type": "execute_result"
    }
   ],
   "source": [
    "maxi = df_1960.max()\n",
    "maxi"
   ]
  },
  {
   "cell_type": "code",
   "execution_count": 42,
   "metadata": {},
   "outputs": [
    {
     "data": {
      "text/plain": [
       "29.61"
      ]
     },
     "execution_count": 42,
     "metadata": {},
     "output_type": "execute_result"
    }
   ],
   "source": [
    "mini = df_1960.min()\n",
    "mini"
   ]
  },
  {
   "cell_type": "code",
   "execution_count": 67,
   "metadata": {},
   "outputs": [
    {
     "data": {
      "text/plain": [
       "44.61"
      ]
     },
     "execution_count": 67,
     "metadata": {},
     "output_type": "execute_result"
    }
   ],
   "source": [
    "range = maxi - mini\n",
    "range"
   ]
  },
  {
   "cell_type": "code",
   "execution_count": 37,
   "metadata": {},
   "outputs": [
    {
     "data": {
      "text/plain": [
       "201"
      ]
     },
     "execution_count": 37,
     "metadata": {},
     "output_type": "execute_result"
    }
   ],
   "source": [
    "number_of_observations = df.shape[0]\n",
    "\n",
    "number_of_observations"
   ]
  },
  {
   "cell_type": "code",
   "execution_count": 38,
   "metadata": {},
   "outputs": [
    {
     "data": {
      "text/html": [
       "<div>\n",
       "<style scoped>\n",
       "    .dataframe tbody tr th:only-of-type {\n",
       "        vertical-align: middle;\n",
       "    }\n",
       "\n",
       "    .dataframe tbody tr th {\n",
       "        vertical-align: top;\n",
       "    }\n",
       "\n",
       "    .dataframe thead th {\n",
       "        text-align: right;\n",
       "    }\n",
       "</style>\n",
       "<table border=\"1\" class=\"dataframe\">\n",
       "  <thead>\n",
       "    <tr style=\"text-align: right;\">\n",
       "      <th></th>\n",
       "      <th>1800.0</th>\n",
       "      <th>1801.0</th>\n",
       "      <th>1802.0</th>\n",
       "      <th>1803.0</th>\n",
       "      <th>1804.0</th>\n",
       "      <th>1805.0</th>\n",
       "      <th>1806.0</th>\n",
       "      <th>1807.0</th>\n",
       "      <th>1808.0</th>\n",
       "      <th>1809.0</th>\n",
       "      <th>...</th>\n",
       "      <th>2007.0</th>\n",
       "      <th>2008.0</th>\n",
       "      <th>2009.0</th>\n",
       "      <th>2010.0</th>\n",
       "      <th>2011.0</th>\n",
       "      <th>2012.0</th>\n",
       "      <th>2013.0</th>\n",
       "      <th>2014.0</th>\n",
       "      <th>2015.0</th>\n",
       "      <th>2016.0</th>\n",
       "    </tr>\n",
       "  </thead>\n",
       "  <tbody>\n",
       "    <tr>\n",
       "      <th>count</th>\n",
       "      <td>201.000000</td>\n",
       "      <td>201.000000</td>\n",
       "      <td>201.000000</td>\n",
       "      <td>201.000000</td>\n",
       "      <td>201.000000</td>\n",
       "      <td>201.000000</td>\n",
       "      <td>201.000000</td>\n",
       "      <td>201.000000</td>\n",
       "      <td>201.000000</td>\n",
       "      <td>201.000000</td>\n",
       "      <td>...</td>\n",
       "      <td>201.000000</td>\n",
       "      <td>201.000000</td>\n",
       "      <td>201.000000</td>\n",
       "      <td>201.000000</td>\n",
       "      <td>201.000000</td>\n",
       "      <td>201.000000</td>\n",
       "      <td>201.000000</td>\n",
       "      <td>201.000000</td>\n",
       "      <td>201.000000</td>\n",
       "      <td>201.000000</td>\n",
       "    </tr>\n",
       "    <tr>\n",
       "      <th>mean</th>\n",
       "      <td>31.486020</td>\n",
       "      <td>31.448905</td>\n",
       "      <td>31.463483</td>\n",
       "      <td>31.377413</td>\n",
       "      <td>31.446318</td>\n",
       "      <td>31.562537</td>\n",
       "      <td>31.615970</td>\n",
       "      <td>31.573134</td>\n",
       "      <td>31.376766</td>\n",
       "      <td>31.310448</td>\n",
       "      <td>...</td>\n",
       "      <td>69.952139</td>\n",
       "      <td>70.264876</td>\n",
       "      <td>70.601194</td>\n",
       "      <td>70.800199</td>\n",
       "      <td>71.166269</td>\n",
       "      <td>71.514577</td>\n",
       "      <td>71.774776</td>\n",
       "      <td>71.950050</td>\n",
       "      <td>72.187861</td>\n",
       "      <td>72.428507</td>\n",
       "    </tr>\n",
       "    <tr>\n",
       "      <th>std</th>\n",
       "      <td>3.763585</td>\n",
       "      <td>3.755739</td>\n",
       "      <td>3.878204</td>\n",
       "      <td>3.901966</td>\n",
       "      <td>3.877156</td>\n",
       "      <td>3.947957</td>\n",
       "      <td>4.039261</td>\n",
       "      <td>3.917339</td>\n",
       "      <td>4.017228</td>\n",
       "      <td>3.972970</td>\n",
       "      <td>...</td>\n",
       "      <td>8.989729</td>\n",
       "      <td>8.836546</td>\n",
       "      <td>8.647311</td>\n",
       "      <td>8.946296</td>\n",
       "      <td>8.414504</td>\n",
       "      <td>8.255997</td>\n",
       "      <td>8.161011</td>\n",
       "      <td>8.116259</td>\n",
       "      <td>7.941638</td>\n",
       "      <td>7.776782</td>\n",
       "    </tr>\n",
       "    <tr>\n",
       "      <th>min</th>\n",
       "      <td>23.390000</td>\n",
       "      <td>23.390000</td>\n",
       "      <td>23.390000</td>\n",
       "      <td>19.600000</td>\n",
       "      <td>23.390000</td>\n",
       "      <td>23.390000</td>\n",
       "      <td>23.390000</td>\n",
       "      <td>23.390000</td>\n",
       "      <td>12.480000</td>\n",
       "      <td>13.430000</td>\n",
       "      <td>...</td>\n",
       "      <td>43.300000</td>\n",
       "      <td>44.500000</td>\n",
       "      <td>45.500000</td>\n",
       "      <td>32.200000</td>\n",
       "      <td>46.700000</td>\n",
       "      <td>46.100000</td>\n",
       "      <td>45.600000</td>\n",
       "      <td>45.400000</td>\n",
       "      <td>47.100000</td>\n",
       "      <td>48.860000</td>\n",
       "    </tr>\n",
       "    <tr>\n",
       "      <th>25%</th>\n",
       "      <td>29.000000</td>\n",
       "      <td>28.950000</td>\n",
       "      <td>28.900000</td>\n",
       "      <td>28.900000</td>\n",
       "      <td>28.950000</td>\n",
       "      <td>29.000000</td>\n",
       "      <td>29.000000</td>\n",
       "      <td>29.000000</td>\n",
       "      <td>28.950000</td>\n",
       "      <td>28.820000</td>\n",
       "      <td>...</td>\n",
       "      <td>64.400000</td>\n",
       "      <td>64.700000</td>\n",
       "      <td>65.000000</td>\n",
       "      <td>65.200000</td>\n",
       "      <td>65.300000</td>\n",
       "      <td>65.900000</td>\n",
       "      <td>66.200000</td>\n",
       "      <td>66.600000</td>\n",
       "      <td>66.800000</td>\n",
       "      <td>67.100000</td>\n",
       "    </tr>\n",
       "    <tr>\n",
       "      <th>50%</th>\n",
       "      <td>31.800000</td>\n",
       "      <td>31.700000</td>\n",
       "      <td>31.600000</td>\n",
       "      <td>31.500000</td>\n",
       "      <td>31.600000</td>\n",
       "      <td>31.700000</td>\n",
       "      <td>31.800000</td>\n",
       "      <td>31.800000</td>\n",
       "      <td>31.600000</td>\n",
       "      <td>31.500000</td>\n",
       "      <td>...</td>\n",
       "      <td>72.600000</td>\n",
       "      <td>72.900000</td>\n",
       "      <td>73.300000</td>\n",
       "      <td>73.600000</td>\n",
       "      <td>73.700000</td>\n",
       "      <td>74.000000</td>\n",
       "      <td>74.100000</td>\n",
       "      <td>74.300000</td>\n",
       "      <td>74.400000</td>\n",
       "      <td>74.500000</td>\n",
       "    </tr>\n",
       "    <tr>\n",
       "      <th>75%</th>\n",
       "      <td>33.900000</td>\n",
       "      <td>33.900000</td>\n",
       "      <td>33.900000</td>\n",
       "      <td>33.800000</td>\n",
       "      <td>33.870000</td>\n",
       "      <td>33.900000</td>\n",
       "      <td>34.000000</td>\n",
       "      <td>34.000000</td>\n",
       "      <td>33.870000</td>\n",
       "      <td>33.800000</td>\n",
       "      <td>...</td>\n",
       "      <td>76.900000</td>\n",
       "      <td>77.100000</td>\n",
       "      <td>77.300000</td>\n",
       "      <td>77.500000</td>\n",
       "      <td>77.400000</td>\n",
       "      <td>78.000000</td>\n",
       "      <td>78.000000</td>\n",
       "      <td>78.200000</td>\n",
       "      <td>78.500000</td>\n",
       "      <td>78.600000</td>\n",
       "    </tr>\n",
       "    <tr>\n",
       "      <th>max</th>\n",
       "      <td>42.850000</td>\n",
       "      <td>40.300000</td>\n",
       "      <td>44.370000</td>\n",
       "      <td>44.840000</td>\n",
       "      <td>42.830000</td>\n",
       "      <td>44.270000</td>\n",
       "      <td>45.820000</td>\n",
       "      <td>43.560000</td>\n",
       "      <td>43.550000</td>\n",
       "      <td>41.740000</td>\n",
       "      <td>...</td>\n",
       "      <td>82.400000</td>\n",
       "      <td>82.500000</td>\n",
       "      <td>82.700000</td>\n",
       "      <td>82.840000</td>\n",
       "      <td>83.020000</td>\n",
       "      <td>83.200000</td>\n",
       "      <td>83.380000</td>\n",
       "      <td>83.560000</td>\n",
       "      <td>83.730000</td>\n",
       "      <td>83.900000</td>\n",
       "    </tr>\n",
       "  </tbody>\n",
       "</table>\n",
       "<p>8 rows × 217 columns</p>\n",
       "</div>"
      ],
      "text/plain": [
       "           1800.0      1801.0      1802.0      1803.0      1804.0      1805.0  \\\n",
       "count  201.000000  201.000000  201.000000  201.000000  201.000000  201.000000   \n",
       "mean    31.486020   31.448905   31.463483   31.377413   31.446318   31.562537   \n",
       "std      3.763585    3.755739    3.878204    3.901966    3.877156    3.947957   \n",
       "min     23.390000   23.390000   23.390000   19.600000   23.390000   23.390000   \n",
       "25%     29.000000   28.950000   28.900000   28.900000   28.950000   29.000000   \n",
       "50%     31.800000   31.700000   31.600000   31.500000   31.600000   31.700000   \n",
       "75%     33.900000   33.900000   33.900000   33.800000   33.870000   33.900000   \n",
       "max     42.850000   40.300000   44.370000   44.840000   42.830000   44.270000   \n",
       "\n",
       "           1806.0      1807.0      1808.0      1809.0  ...      2007.0  \\\n",
       "count  201.000000  201.000000  201.000000  201.000000  ...  201.000000   \n",
       "mean    31.615970   31.573134   31.376766   31.310448  ...   69.952139   \n",
       "std      4.039261    3.917339    4.017228    3.972970  ...    8.989729   \n",
       "min     23.390000   23.390000   12.480000   13.430000  ...   43.300000   \n",
       "25%     29.000000   29.000000   28.950000   28.820000  ...   64.400000   \n",
       "50%     31.800000   31.800000   31.600000   31.500000  ...   72.600000   \n",
       "75%     34.000000   34.000000   33.870000   33.800000  ...   76.900000   \n",
       "max     45.820000   43.560000   43.550000   41.740000  ...   82.400000   \n",
       "\n",
       "           2008.0      2009.0      2010.0      2011.0      2012.0      2013.0  \\\n",
       "count  201.000000  201.000000  201.000000  201.000000  201.000000  201.000000   \n",
       "mean    70.264876   70.601194   70.800199   71.166269   71.514577   71.774776   \n",
       "std      8.836546    8.647311    8.946296    8.414504    8.255997    8.161011   \n",
       "min     44.500000   45.500000   32.200000   46.700000   46.100000   45.600000   \n",
       "25%     64.700000   65.000000   65.200000   65.300000   65.900000   66.200000   \n",
       "50%     72.900000   73.300000   73.600000   73.700000   74.000000   74.100000   \n",
       "75%     77.100000   77.300000   77.500000   77.400000   78.000000   78.000000   \n",
       "max     82.500000   82.700000   82.840000   83.020000   83.200000   83.380000   \n",
       "\n",
       "           2014.0      2015.0      2016.0  \n",
       "count  201.000000  201.000000  201.000000  \n",
       "mean    71.950050   72.187861   72.428507  \n",
       "std      8.116259    7.941638    7.776782  \n",
       "min     45.400000   47.100000   48.860000  \n",
       "25%     66.600000   66.800000   67.100000  \n",
       "50%     74.300000   74.400000   74.500000  \n",
       "75%     78.200000   78.500000   78.600000  \n",
       "max     83.560000   83.730000   83.900000  \n",
       "\n",
       "[8 rows x 217 columns]"
      ]
     },
     "execution_count": 38,
     "metadata": {},
     "output_type": "execute_result"
    }
   ],
   "source": [
    "df.describe()"
   ]
  }
 ],
 "metadata": {
  "kernelspec": {
   "display_name": "Python 3.9.12 ('base')",
   "language": "python",
   "name": "python3"
  },
  "language_info": {
   "codemirror_mode": {
    "name": "ipython",
    "version": 3
   },
   "file_extension": ".py",
   "mimetype": "text/x-python",
   "name": "python",
   "nbconvert_exporter": "python",
   "pygments_lexer": "ipython3",
   "version": "3.9.12"
  },
  "orig_nbformat": 4,
  "vscode": {
   "interpreter": {
    "hash": "0a350f348cc9cd8ab2a204ada911fa6294689536782badbe119e7252554676e7"
   }
  }
 },
 "nbformat": 4,
 "nbformat_minor": 2
}
