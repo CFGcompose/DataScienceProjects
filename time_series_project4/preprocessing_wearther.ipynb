{
 "cells": [
  {
   "attachments": {},
   "cell_type": "markdown",
   "id": "8536ca78",
   "metadata": {},
   "source": [
    "# Data Processing\n",
    "\n",
    "For the project:  \n",
    "temperature data, daily mean temperatures for the weather station Berlin Tempelhof!  "
   ]
  },
  {
   "cell_type": "markdown",
   "id": "df62d158",
   "metadata": {},
   "source": [
    "### important notes\n",
    "The data set is in a text file \"ECA_blended_custom.txt\"  \n",
    "Check for the missing values  \n",
    "Think about imputation method  \n",
    "Think about Train-test split   "
   ]
  },
  {
   "cell_type": "code",
   "execution_count": 1,
   "id": "5058177b",
   "metadata": {},
   "outputs": [],
   "source": [
    "# data analysis packages\n",
    "import pandas as pd\n",
    "import numpy as np\n",
    "\n",
    "# timestamp manipulation \n",
    "from dateutil.relativedelta import relativedelta"
   ]
  },
  {
   "cell_type": "markdown",
   "id": "efa94230",
   "metadata": {},
   "source": [
    "### Load Data"
   ]
  },
  {
   "cell_type": "code",
   "execution_count": 2,
   "id": "c0fcc20c",
   "metadata": {},
   "outputs": [],
   "source": [
    "# path of data file\n",
    "FILE_PATH=\"./data_temp_raw.txt\"\n",
    "\n",
    "df=pd.read_csv(\n",
    "    FILE_PATH,\n",
    "    # datastarts from line 20\n",
    "    skiprows=19,\n",
    "    # remove empty space in column name\n",
    "    skipinitialspace=True,\n",
    "    # parse DATE coulumn\n",
    "    parse_dates=[1])"
   ]
  },
  {
   "cell_type": "code",
   "execution_count": 3,
   "id": "7cface55",
   "metadata": {},
   "outputs": [
    {
     "data": {
      "text/html": [
       "<div>\n",
       "<style scoped>\n",
       "    .dataframe tbody tr th:only-of-type {\n",
       "        vertical-align: middle;\n",
       "    }\n",
       "\n",
       "    .dataframe tbody tr th {\n",
       "        vertical-align: top;\n",
       "    }\n",
       "\n",
       "    .dataframe thead th {\n",
       "        text-align: right;\n",
       "    }\n",
       "</style>\n",
       "<table border=\"1\" class=\"dataframe\">\n",
       "  <thead>\n",
       "    <tr style=\"text-align: right;\">\n",
       "      <th></th>\n",
       "      <th>SOUID</th>\n",
       "      <th>DATE</th>\n",
       "      <th>TG</th>\n",
       "      <th>Q_TG</th>\n",
       "    </tr>\n",
       "  </thead>\n",
       "  <tbody>\n",
       "    <tr>\n",
       "      <th>0</th>\n",
       "      <td>127488</td>\n",
       "      <td>1876-01-01</td>\n",
       "      <td>22</td>\n",
       "      <td>0</td>\n",
       "    </tr>\n",
       "    <tr>\n",
       "      <th>1</th>\n",
       "      <td>127488</td>\n",
       "      <td>1876-01-02</td>\n",
       "      <td>25</td>\n",
       "      <td>0</td>\n",
       "    </tr>\n",
       "    <tr>\n",
       "      <th>2</th>\n",
       "      <td>127488</td>\n",
       "      <td>1876-01-03</td>\n",
       "      <td>3</td>\n",
       "      <td>0</td>\n",
       "    </tr>\n",
       "    <tr>\n",
       "      <th>3</th>\n",
       "      <td>127488</td>\n",
       "      <td>1876-01-04</td>\n",
       "      <td>-58</td>\n",
       "      <td>0</td>\n",
       "    </tr>\n",
       "    <tr>\n",
       "      <th>4</th>\n",
       "      <td>127488</td>\n",
       "      <td>1876-01-05</td>\n",
       "      <td>-98</td>\n",
       "      <td>0</td>\n",
       "    </tr>\n",
       "  </tbody>\n",
       "</table>\n",
       "</div>"
      ],
      "text/plain": [
       "    SOUID       DATE  TG  Q_TG\n",
       "0  127488 1876-01-01  22     0\n",
       "1  127488 1876-01-02  25     0\n",
       "2  127488 1876-01-03   3     0\n",
       "3  127488 1876-01-04 -58     0\n",
       "4  127488 1876-01-05 -98     0"
      ]
     },
     "execution_count": 3,
     "metadata": {},
     "output_type": "execute_result"
    }
   ],
   "source": [
    "df.head()\n"
   ]
  },
  {
   "cell_type": "code",
   "execution_count": 4,
   "id": "3e831987",
   "metadata": {},
   "outputs": [
    {
     "data": {
      "text/html": [
       "<div>\n",
       "<style scoped>\n",
       "    .dataframe tbody tr th:only-of-type {\n",
       "        vertical-align: middle;\n",
       "    }\n",
       "\n",
       "    .dataframe tbody tr th {\n",
       "        vertical-align: top;\n",
       "    }\n",
       "\n",
       "    .dataframe thead th {\n",
       "        text-align: right;\n",
       "    }\n",
       "</style>\n",
       "<table border=\"1\" class=\"dataframe\">\n",
       "  <thead>\n",
       "    <tr style=\"text-align: right;\">\n",
       "      <th></th>\n",
       "      <th>SOUID</th>\n",
       "      <th>DATE</th>\n",
       "      <th>TG</th>\n",
       "      <th>Q_TG</th>\n",
       "    </tr>\n",
       "  </thead>\n",
       "  <tbody>\n",
       "    <tr>\n",
       "      <th>53686</th>\n",
       "      <td>111448</td>\n",
       "      <td>2022-12-27</td>\n",
       "      <td>42</td>\n",
       "      <td>0</td>\n",
       "    </tr>\n",
       "    <tr>\n",
       "      <th>53687</th>\n",
       "      <td>111448</td>\n",
       "      <td>2022-12-28</td>\n",
       "      <td>63</td>\n",
       "      <td>0</td>\n",
       "    </tr>\n",
       "    <tr>\n",
       "      <th>53688</th>\n",
       "      <td>111448</td>\n",
       "      <td>2022-12-29</td>\n",
       "      <td>100</td>\n",
       "      <td>0</td>\n",
       "    </tr>\n",
       "    <tr>\n",
       "      <th>53689</th>\n",
       "      <td>111448</td>\n",
       "      <td>2022-12-30</td>\n",
       "      <td>76</td>\n",
       "      <td>0</td>\n",
       "    </tr>\n",
       "    <tr>\n",
       "      <th>53690</th>\n",
       "      <td>111448</td>\n",
       "      <td>2022-12-31</td>\n",
       "      <td>148</td>\n",
       "      <td>0</td>\n",
       "    </tr>\n",
       "  </tbody>\n",
       "</table>\n",
       "</div>"
      ],
      "text/plain": [
       "        SOUID       DATE   TG  Q_TG\n",
       "53686  111448 2022-12-27   42     0\n",
       "53687  111448 2022-12-28   63     0\n",
       "53688  111448 2022-12-29  100     0\n",
       "53689  111448 2022-12-30   76     0\n",
       "53690  111448 2022-12-31  148     0"
      ]
     },
     "execution_count": 4,
     "metadata": {},
     "output_type": "execute_result"
    }
   ],
   "source": [
    "df.tail()"
   ]
  },
  {
   "cell_type": "markdown",
   "id": "558d943c",
   "metadata": {},
   "source": [
    "### missing values"
   ]
  },
  {
   "cell_type": "code",
   "execution_count": 5,
   "id": "86c37e04",
   "metadata": {},
   "outputs": [],
   "source": [
    "# filter dataframe for days with missing value\n",
    "df_missing = df[df['Q_TG']==9]"
   ]
  },
  {
   "cell_type": "code",
   "execution_count": 6,
   "id": "3857372b",
   "metadata": {},
   "outputs": [
    {
     "data": {
      "text/html": [
       "<div>\n",
       "<style scoped>\n",
       "    .dataframe tbody tr th:only-of-type {\n",
       "        vertical-align: middle;\n",
       "    }\n",
       "\n",
       "    .dataframe tbody tr th {\n",
       "        vertical-align: top;\n",
       "    }\n",
       "\n",
       "    .dataframe thead th {\n",
       "        text-align: right;\n",
       "    }\n",
       "</style>\n",
       "<table border=\"1\" class=\"dataframe\">\n",
       "  <thead>\n",
       "    <tr style=\"text-align: right;\">\n",
       "      <th></th>\n",
       "      <th>SOUID</th>\n",
       "      <th>DATE</th>\n",
       "      <th>TG</th>\n",
       "      <th>Q_TG</th>\n",
       "    </tr>\n",
       "  </thead>\n",
       "  <tbody>\n",
       "    <tr>\n",
       "      <th>25316</th>\n",
       "      <td>127488</td>\n",
       "      <td>1945-04-25</td>\n",
       "      <td>-9999</td>\n",
       "      <td>9</td>\n",
       "    </tr>\n",
       "    <tr>\n",
       "      <th>25317</th>\n",
       "      <td>127488</td>\n",
       "      <td>1945-04-26</td>\n",
       "      <td>-9999</td>\n",
       "      <td>9</td>\n",
       "    </tr>\n",
       "    <tr>\n",
       "      <th>25318</th>\n",
       "      <td>127488</td>\n",
       "      <td>1945-04-27</td>\n",
       "      <td>-9999</td>\n",
       "      <td>9</td>\n",
       "    </tr>\n",
       "    <tr>\n",
       "      <th>25319</th>\n",
       "      <td>127488</td>\n",
       "      <td>1945-04-28</td>\n",
       "      <td>-9999</td>\n",
       "      <td>9</td>\n",
       "    </tr>\n",
       "    <tr>\n",
       "      <th>25320</th>\n",
       "      <td>127488</td>\n",
       "      <td>1945-04-29</td>\n",
       "      <td>-9999</td>\n",
       "      <td>9</td>\n",
       "    </tr>\n",
       "  </tbody>\n",
       "</table>\n",
       "</div>"
      ],
      "text/plain": [
       "        SOUID       DATE    TG  Q_TG\n",
       "25316  127488 1945-04-25 -9999     9\n",
       "25317  127488 1945-04-26 -9999     9\n",
       "25318  127488 1945-04-27 -9999     9\n",
       "25319  127488 1945-04-28 -9999     9\n",
       "25320  127488 1945-04-29 -9999     9"
      ]
     },
     "execution_count": 6,
     "metadata": {},
     "output_type": "execute_result"
    }
   ],
   "source": [
    "df_missing.head()"
   ]
  },
  {
   "cell_type": "code",
   "execution_count": 7,
   "id": "bbec985f",
   "metadata": {},
   "outputs": [
    {
     "data": {
      "text/plain": [
       "Timestamp('1945-04-25 00:00:00')"
      ]
     },
     "execution_count": 7,
     "metadata": {},
     "output_type": "execute_result"
    }
   ],
   "source": [
    "# first date with missing value\n",
    "df_missing['DATE'].min()"
   ]
  },
  {
   "cell_type": "code",
   "execution_count": 8,
   "id": "6b3ebe59",
   "metadata": {},
   "outputs": [
    {
     "data": {
      "text/plain": [
       "Timestamp('1945-11-05 00:00:00')"
      ]
     },
     "execution_count": 8,
     "metadata": {},
     "output_type": "execute_result"
    }
   ],
   "source": [
    "# last date with missing value\n",
    "df_missing['DATE'].max()"
   ]
  },
  {
   "cell_type": "code",
   "execution_count": 9,
   "id": "6cb8fa05",
   "metadata": {},
   "outputs": [
    {
     "data": {
      "text/plain": [
       "195"
      ]
     },
     "execution_count": 9,
     "metadata": {},
     "output_type": "execute_result"
    }
   ],
   "source": [
    "# number of days with missing values\n",
    "missing_days = (df_missing['DATE'].max()-df_missing['DATE'].min()).days + 1\n",
    "missing_days"
   ]
  },
  {
   "cell_type": "code",
   "execution_count": 10,
   "id": "522294de",
   "metadata": {},
   "outputs": [
    {
     "data": {
      "text/plain": [
       "True"
      ]
     },
     "execution_count": 10,
     "metadata": {},
     "output_type": "execute_result"
    }
   ],
   "source": [
    "# check if all days in between have missing values\n",
    "missing_days == df_missing.shape[0]"
   ]
  },
  {
   "cell_type": "markdown",
   "id": "cf68c12c",
   "metadata": {},
   "source": [
    "***Comment: Missing values over the entire period 1945-04-25--1945-11-05***"
   ]
  },
  {
   "cell_type": "markdown",
   "id": "b915478b",
   "metadata": {},
   "source": [
    "### imputation"
   ]
  },
  {
   "cell_type": "code",
   "execution_count": 11,
   "id": "b347ce36",
   "metadata": {},
   "outputs": [],
   "source": [
    "# reference years are all years 5 years before and  5 years after \n",
    "reference_years = list(range(-5,6))\n",
    "reference_years.remove(0)\n",
    "\n",
    "# function for clean temperature values\n",
    "def clean_temp(df,x):\n",
    "    \"\"\"\n",
    "    returns a temperaure column in celcius with missing values imputed;\n",
    "    imputation is done with the average of the temperautes on the same\n",
    "    day over all the reference years; division by 10 for celcius value\n",
    "    \"\"\"\n",
    "    # if missing value occurs\n",
    "    if x['Q_TG']==9:\n",
    "        \n",
    "        # list reference dates\n",
    "        reference_dates = [x['DATE']+relativedelta(years=y) for y in reference_years]\n",
    "        \n",
    "        # mean temperatue over the references dates\n",
    "        temp_value = df[df['DATE'].isin(reference_dates)]['TG'].mean()\n",
    "        \n",
    "        # division by 10 to convert to celcius value\n",
    "        return int(temp_value)/10\n",
    "    \n",
    "    # else just division by 10 to convert to celcius value\n",
    "    return x['TG']/10"
   ]
  },
  {
   "cell_type": "code",
   "execution_count": 12,
   "id": "6c0d7f2e",
   "metadata": {},
   "outputs": [],
   "source": [
    "# create clean temperatutre column\n",
    "df['TEMP'] = df.apply(\n",
    "    lambda x: clean_temp(df,x),\n",
    "    axis=1\n",
    ")"
   ]
  },
  {
   "cell_type": "code",
   "execution_count": 13,
   "id": "05786aeb",
   "metadata": {},
   "outputs": [],
   "source": [
    "# filter dataframe for days with missing value\n",
    "df_missing = df[df['Q_TG']==9]"
   ]
  },
  {
   "cell_type": "code",
   "execution_count": 27,
   "id": "851140c9",
   "metadata": {},
   "outputs": [
    {
     "data": {
      "text/html": [
       "<div>\n",
       "<style scoped>\n",
       "    .dataframe tbody tr th:only-of-type {\n",
       "        vertical-align: middle;\n",
       "    }\n",
       "\n",
       "    .dataframe tbody tr th {\n",
       "        vertical-align: top;\n",
       "    }\n",
       "\n",
       "    .dataframe thead th {\n",
       "        text-align: right;\n",
       "    }\n",
       "</style>\n",
       "<table border=\"1\" class=\"dataframe\">\n",
       "  <thead>\n",
       "    <tr style=\"text-align: right;\">\n",
       "      <th></th>\n",
       "      <th>SOUID</th>\n",
       "      <th>DATE</th>\n",
       "      <th>TG</th>\n",
       "      <th>Q_TG</th>\n",
       "      <th>TEMP</th>\n",
       "    </tr>\n",
       "  </thead>\n",
       "  <tbody>\n",
       "    <tr>\n",
       "      <th>25316</th>\n",
       "      <td>127488</td>\n",
       "      <td>1945-04-25</td>\n",
       "      <td>-9999</td>\n",
       "      <td>9</td>\n",
       "      <td>11.2</td>\n",
       "    </tr>\n",
       "    <tr>\n",
       "      <th>25317</th>\n",
       "      <td>127488</td>\n",
       "      <td>1945-04-26</td>\n",
       "      <td>-9999</td>\n",
       "      <td>9</td>\n",
       "      <td>10.8</td>\n",
       "    </tr>\n",
       "    <tr>\n",
       "      <th>25318</th>\n",
       "      <td>127488</td>\n",
       "      <td>1945-04-27</td>\n",
       "      <td>-9999</td>\n",
       "      <td>9</td>\n",
       "      <td>10.3</td>\n",
       "    </tr>\n",
       "    <tr>\n",
       "      <th>25319</th>\n",
       "      <td>127488</td>\n",
       "      <td>1945-04-28</td>\n",
       "      <td>-9999</td>\n",
       "      <td>9</td>\n",
       "      <td>10.2</td>\n",
       "    </tr>\n",
       "    <tr>\n",
       "      <th>25320</th>\n",
       "      <td>127488</td>\n",
       "      <td>1945-04-29</td>\n",
       "      <td>-9999</td>\n",
       "      <td>9</td>\n",
       "      <td>9.7</td>\n",
       "    </tr>\n",
       "  </tbody>\n",
       "</table>\n",
       "</div>"
      ],
      "text/plain": [
       "        SOUID       DATE    TG  Q_TG  TEMP\n",
       "25316  127488 1945-04-25 -9999     9  11.2\n",
       "25317  127488 1945-04-26 -9999     9  10.8\n",
       "25318  127488 1945-04-27 -9999     9  10.3\n",
       "25319  127488 1945-04-28 -9999     9  10.2\n",
       "25320  127488 1945-04-29 -9999     9   9.7"
      ]
     },
     "execution_count": 27,
     "metadata": {},
     "output_type": "execute_result"
    }
   ],
   "source": [
    "df_missing.head()"
   ]
  },
  {
   "cell_type": "code",
   "execution_count": 28,
   "id": "72d90346",
   "metadata": {},
   "outputs": [
    {
     "data": {
      "text/html": [
       "<div>\n",
       "<style scoped>\n",
       "    .dataframe tbody tr th:only-of-type {\n",
       "        vertical-align: middle;\n",
       "    }\n",
       "\n",
       "    .dataframe tbody tr th {\n",
       "        vertical-align: top;\n",
       "    }\n",
       "\n",
       "    .dataframe thead th {\n",
       "        text-align: right;\n",
       "    }\n",
       "</style>\n",
       "<table border=\"1\" class=\"dataframe\">\n",
       "  <thead>\n",
       "    <tr style=\"text-align: right;\">\n",
       "      <th></th>\n",
       "      <th>SOUID</th>\n",
       "      <th>DATE</th>\n",
       "      <th>TG</th>\n",
       "      <th>Q_TG</th>\n",
       "      <th>TEMP</th>\n",
       "    </tr>\n",
       "  </thead>\n",
       "  <tbody>\n",
       "    <tr>\n",
       "      <th>25506</th>\n",
       "      <td>127488</td>\n",
       "      <td>1945-11-01</td>\n",
       "      <td>-9999</td>\n",
       "      <td>9</td>\n",
       "      <td>5.2</td>\n",
       "    </tr>\n",
       "    <tr>\n",
       "      <th>25507</th>\n",
       "      <td>127488</td>\n",
       "      <td>1945-11-02</td>\n",
       "      <td>-9999</td>\n",
       "      <td>9</td>\n",
       "      <td>5.0</td>\n",
       "    </tr>\n",
       "    <tr>\n",
       "      <th>25508</th>\n",
       "      <td>127488</td>\n",
       "      <td>1945-11-03</td>\n",
       "      <td>-9999</td>\n",
       "      <td>9</td>\n",
       "      <td>6.1</td>\n",
       "    </tr>\n",
       "    <tr>\n",
       "      <th>25509</th>\n",
       "      <td>127488</td>\n",
       "      <td>1945-11-04</td>\n",
       "      <td>-9999</td>\n",
       "      <td>9</td>\n",
       "      <td>5.5</td>\n",
       "    </tr>\n",
       "    <tr>\n",
       "      <th>25510</th>\n",
       "      <td>127488</td>\n",
       "      <td>1945-11-05</td>\n",
       "      <td>-9999</td>\n",
       "      <td>9</td>\n",
       "      <td>4.5</td>\n",
       "    </tr>\n",
       "  </tbody>\n",
       "</table>\n",
       "</div>"
      ],
      "text/plain": [
       "        SOUID       DATE    TG  Q_TG  TEMP\n",
       "25506  127488 1945-11-01 -9999     9   5.2\n",
       "25507  127488 1945-11-02 -9999     9   5.0\n",
       "25508  127488 1945-11-03 -9999     9   6.1\n",
       "25509  127488 1945-11-04 -9999     9   5.5\n",
       "25510  127488 1945-11-05 -9999     9   4.5"
      ]
     },
     "execution_count": 28,
     "metadata": {},
     "output_type": "execute_result"
    }
   ],
   "source": [
    "df_missing.tail()"
   ]
  },
  {
   "cell_type": "markdown",
   "id": "35612590",
   "metadata": {},
   "source": [
    "### Train-Test Split"
   ]
  },
  {
   "cell_type": "code",
   "execution_count": 14,
   "id": "cf34403b",
   "metadata": {},
   "outputs": [],
   "source": [
    "# lowercase column name\n",
    "df.columns = df.columns.str.lower()\n",
    "\n",
    "# extract relevant time series\n",
    "clean_df = df.set_index('date')[['temp']]"
   ]
  },
  {
   "cell_type": "code",
   "execution_count": 15,
   "id": "924ec321",
   "metadata": {},
   "outputs": [
    {
     "data": {
      "text/html": [
       "<div>\n",
       "<style scoped>\n",
       "    .dataframe tbody tr th:only-of-type {\n",
       "        vertical-align: middle;\n",
       "    }\n",
       "\n",
       "    .dataframe tbody tr th {\n",
       "        vertical-align: top;\n",
       "    }\n",
       "\n",
       "    .dataframe thead th {\n",
       "        text-align: right;\n",
       "    }\n",
       "</style>\n",
       "<table border=\"1\" class=\"dataframe\">\n",
       "  <thead>\n",
       "    <tr style=\"text-align: right;\">\n",
       "      <th></th>\n",
       "      <th>temp</th>\n",
       "    </tr>\n",
       "    <tr>\n",
       "      <th>date</th>\n",
       "      <th></th>\n",
       "    </tr>\n",
       "  </thead>\n",
       "  <tbody>\n",
       "    <tr>\n",
       "      <th>1876-01-01</th>\n",
       "      <td>2.2</td>\n",
       "    </tr>\n",
       "    <tr>\n",
       "      <th>1876-01-02</th>\n",
       "      <td>2.5</td>\n",
       "    </tr>\n",
       "    <tr>\n",
       "      <th>1876-01-03</th>\n",
       "      <td>0.3</td>\n",
       "    </tr>\n",
       "    <tr>\n",
       "      <th>1876-01-04</th>\n",
       "      <td>-5.8</td>\n",
       "    </tr>\n",
       "    <tr>\n",
       "      <th>1876-01-05</th>\n",
       "      <td>-9.8</td>\n",
       "    </tr>\n",
       "  </tbody>\n",
       "</table>\n",
       "</div>"
      ],
      "text/plain": [
       "            temp\n",
       "date            \n",
       "1876-01-01   2.2\n",
       "1876-01-02   2.5\n",
       "1876-01-03   0.3\n",
       "1876-01-04  -5.8\n",
       "1876-01-05  -9.8"
      ]
     },
     "execution_count": 15,
     "metadata": {},
     "output_type": "execute_result"
    }
   ],
   "source": [
    "clean_df.head()"
   ]
  },
  {
   "cell_type": "code",
   "execution_count": 16,
   "id": "3072b1a5",
   "metadata": {},
   "outputs": [],
   "source": [
    "# train data until Dec 31, 2021\n",
    "train = clean_df[:'2021-12-31']\n",
    "\n",
    "# test data for Jan 01-Dec 31, 2022\n",
    "test = clean_df['2022-01-01':]"
   ]
  },
  {
   "cell_type": "code",
   "execution_count": 32,
   "id": "666e79b6",
   "metadata": {},
   "outputs": [
    {
     "data": {
      "text/plain": [
       "((53326, 1), (365, 1))"
      ]
     },
     "execution_count": 32,
     "metadata": {},
     "output_type": "execute_result"
    }
   ],
   "source": [
    "# shape of dataframes\n",
    "train.shape, test.shape"
   ]
  },
  {
   "cell_type": "code",
   "execution_count": 33,
   "id": "eb6e6250",
   "metadata": {},
   "outputs": [
    {
     "data": {
      "text/html": [
       "<div>\n",
       "<style scoped>\n",
       "    .dataframe tbody tr th:only-of-type {\n",
       "        vertical-align: middle;\n",
       "    }\n",
       "\n",
       "    .dataframe tbody tr th {\n",
       "        vertical-align: top;\n",
       "    }\n",
       "\n",
       "    .dataframe thead th {\n",
       "        text-align: right;\n",
       "    }\n",
       "</style>\n",
       "<table border=\"1\" class=\"dataframe\">\n",
       "  <thead>\n",
       "    <tr style=\"text-align: right;\">\n",
       "      <th></th>\n",
       "      <th>temp</th>\n",
       "    </tr>\n",
       "    <tr>\n",
       "      <th>date</th>\n",
       "      <th></th>\n",
       "    </tr>\n",
       "  </thead>\n",
       "  <tbody>\n",
       "    <tr>\n",
       "      <th>1876-01-01</th>\n",
       "      <td>2.2</td>\n",
       "    </tr>\n",
       "    <tr>\n",
       "      <th>1876-01-02</th>\n",
       "      <td>2.5</td>\n",
       "    </tr>\n",
       "    <tr>\n",
       "      <th>1876-01-03</th>\n",
       "      <td>0.3</td>\n",
       "    </tr>\n",
       "    <tr>\n",
       "      <th>1876-01-04</th>\n",
       "      <td>-5.8</td>\n",
       "    </tr>\n",
       "    <tr>\n",
       "      <th>1876-01-05</th>\n",
       "      <td>-9.8</td>\n",
       "    </tr>\n",
       "  </tbody>\n",
       "</table>\n",
       "</div>"
      ],
      "text/plain": [
       "            temp\n",
       "date            \n",
       "1876-01-01   2.2\n",
       "1876-01-02   2.5\n",
       "1876-01-03   0.3\n",
       "1876-01-04  -5.8\n",
       "1876-01-05  -9.8"
      ]
     },
     "execution_count": 33,
     "metadata": {},
     "output_type": "execute_result"
    }
   ],
   "source": [
    "# check train data\n",
    "train.head()"
   ]
  },
  {
   "cell_type": "code",
   "execution_count": 18,
   "id": "c45f8a51",
   "metadata": {},
   "outputs": [
    {
     "data": {
      "text/html": [
       "<div>\n",
       "<style scoped>\n",
       "    .dataframe tbody tr th:only-of-type {\n",
       "        vertical-align: middle;\n",
       "    }\n",
       "\n",
       "    .dataframe tbody tr th {\n",
       "        vertical-align: top;\n",
       "    }\n",
       "\n",
       "    .dataframe thead th {\n",
       "        text-align: right;\n",
       "    }\n",
       "</style>\n",
       "<table border=\"1\" class=\"dataframe\">\n",
       "  <thead>\n",
       "    <tr style=\"text-align: right;\">\n",
       "      <th></th>\n",
       "      <th>temp</th>\n",
       "    </tr>\n",
       "    <tr>\n",
       "      <th>date</th>\n",
       "      <th></th>\n",
       "    </tr>\n",
       "  </thead>\n",
       "  <tbody>\n",
       "    <tr>\n",
       "      <th>2022-01-01</th>\n",
       "      <td>12.0</td>\n",
       "    </tr>\n",
       "    <tr>\n",
       "      <th>2022-01-02</th>\n",
       "      <td>9.9</td>\n",
       "    </tr>\n",
       "    <tr>\n",
       "      <th>2022-01-03</th>\n",
       "      <td>8.9</td>\n",
       "    </tr>\n",
       "    <tr>\n",
       "      <th>2022-01-04</th>\n",
       "      <td>6.4</td>\n",
       "    </tr>\n",
       "    <tr>\n",
       "      <th>2022-01-05</th>\n",
       "      <td>3.8</td>\n",
       "    </tr>\n",
       "  </tbody>\n",
       "</table>\n",
       "</div>"
      ],
      "text/plain": [
       "            temp\n",
       "date            \n",
       "2022-01-01  12.0\n",
       "2022-01-02   9.9\n",
       "2022-01-03   8.9\n",
       "2022-01-04   6.4\n",
       "2022-01-05   3.8"
      ]
     },
     "execution_count": 18,
     "metadata": {},
     "output_type": "execute_result"
    }
   ],
   "source": [
    "# check test data\n",
    "test.head()"
   ]
  },
  {
   "cell_type": "code",
   "execution_count": 17,
   "id": "6584383c",
   "metadata": {},
   "outputs": [],
   "source": [
    "# save train data as csv\n",
    "train.to_csv('data/train.csv')\n",
    "\n",
    "# save test data as csv\n",
    "test.to_csv('data/test.csv')"
   ]
  }
 ],
 "metadata": {
  "kernelspec": {
   "display_name": "base",
   "language": "python",
   "name": "python3"
  },
  "language_info": {
   "codemirror_mode": {
    "name": "ipython",
    "version": 3
   },
   "file_extension": ".py",
   "mimetype": "text/x-python",
   "name": "python",
   "nbconvert_exporter": "python",
   "pygments_lexer": "ipython3",
   "version": "3.9.13 (main, Aug 25 2022, 23:26:10) \n[GCC 11.2.0]"
  },
  "vscode": {
   "interpreter": {
    "hash": "7da04f8794d2471558c87b4ea14d787de49d32c66e537dcb9b31f0599168e116"
   }
  }
 },
 "nbformat": 4,
 "nbformat_minor": 5
}
